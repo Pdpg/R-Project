{
  "nbformat": 4,
  "nbformat_minor": 0,
  "metadata": {
    "colab": {
      "name": "MontyHall_Pradeep_Sehrwat.ipynb",
      "provenance": [],
      "collapsed_sections": []
    },
    "kernelspec": {
      "name": "ir",
      "display_name": "R"
    },
    "language_info": {
      "name": "R"
    }
  },
  "cells": [
    {
      "cell_type": "markdown",
      "source": [
        "**Monty Hall Problem** (by Pradeep Sehrawat)"
      ],
      "metadata": {
        "id": "gMY4hbITrWab"
      }
    },
    {
      "cell_type": "markdown",
      "source": [
        "The Monty Hall problem is a brain teaser, in the form of a probability puzzle, loosely based on the American television game show Let's Make a Deal and named after its original host, Monty Hall\n",
        "\n",
        "->\n",
        "Suppose you're on a game show, and you're given the choice of three doors: Behind one door is a car; behind the others, goats. You pick a door, say No. 1, and the host, who knows what's behind the doors, opens another door, say No. 3, which has a goat. He then says to you, \"Do you want to pick door No. 2?\" Is it to your advantage to switch your choice?\n"
      ],
      "metadata": {
        "id": "Lxe1nZbjzw7K"
      }
    },
    {
      "cell_type": "markdown",
      "source": [
        "# **Case 1 :**  *If selection of Door is not changed after opening a door with goat* \n",
        "\n",
        "->What are the no. of chances a player wins car!\n",
        "\n",
        "let us do it for, How many players out of '10000' can win car if they dont change there selection?\n"
      ],
      "metadata": {
        "id": "RQtD9SjSxBix"
      }
    },
    {
      "cell_type": "code",
      "source": [
        "n <- 0\n",
        "door <- c(1,2,3)              # no. of doors in game\n",
        "\n",
        "for ( i in 1:10000)             # iterating ten thousand times\n",
        " {\n",
        "    choice <- sample(door,1)     # choice made by player  -> sample(set from where choice should be taken, no. of choice at a time)\n",
        "    cardoor <- sample(door,1)     # door behind which car is present \n",
        "    if (choice == cardoor)\n",
        "      {\n",
        "         n <- n + 1               # if selection door matches one with car add 1 to our result\n",
        "      }\n",
        " }\n",
        "cat(\"Players won car out of 10000 Players are\",n)"
      ],
      "metadata": {
        "colab": {
          "base_uri": "https://localhost:8080/"
        },
        "id": "DBZFWwovri86",
        "outputId": "ce00d4b5-344b-4ab3-a9f1-c11a5e3f2f83"
      },
      "execution_count": 36,
      "outputs": [
        {
          "output_type": "stream",
          "name": "stdout",
          "text": [
            "Players won car out of 10000 Players are 3281"
          ]
        }
      ]
    },
    {
      "cell_type": "markdown",
      "source": [
        "# **Case 2 :** *If selection of door is changed after opening a door with goat*\n",
        "\n",
        "->What are the no. of chances a player wins car!\n",
        "\n",
        "let us do it for, How many players out of '10000' can win car if they change there selection?"
      ],
      "metadata": {
        "id": "q3Z0w4lb1t8w"
      }
    },
    {
      "cell_type": "code",
      "execution_count": 35,
      "metadata": {
        "colab": {
          "base_uri": "https://localhost:8080/"
        },
        "id": "EQQFiNrUrIx0",
        "outputId": "5f3bde2b-0576-483a-a1ef-e7afca085860"
      },
      "outputs": [
        {
          "output_type": "stream",
          "name": "stdout",
          "text": [
            "Players won car out of 10000 Players are 6681"
          ]
        }
      ],
      "source": [
        "n <- 0\n",
        "door <- c(1,2,3)                             # no. of doors in game\n",
        "\n",
        "for ( i in 1:10000) {\n",
        "    cardoor <- sample(door,1)                                 \n",
        "    \n",
        "    first_choice <- sample(door,1)    #--------------------# choice made by player  -> sample(set from where choice should be taken, no. of choice at a time)\n",
        "    \n",
        "    removes_door <- ifelse(cardoor==first_choice,                               #ifelse(condn,if_True_show,if_False_show)     | monty has opened the door with goat\n",
        "                    sample(setdiff(door,cardoor),1),      \n",
        "                    setdiff(door,c(cardoor,first_choice)))         #if condition is false\n",
        "   \n",
        "    second_choice <- setdiff(door,c(first_choice,removes_door))         #setdiff() is used to find the elements which are in the first Object but not in the second Object.\n",
        "    \n",
        "    if (cardoor == second_choice) {\n",
        "        n <- n + 1               # if final choice of door matches with cardoor add 1 to our result\n",
        "    }\n",
        "}\n",
        "cat(\"Players won car out of 10000 Players are\",n)"
      ]
    },
    {
      "cell_type": "markdown",
      "source": [
        "**Conclusion :-** The player in this game should change door after Monty Hall opening door behind which there is a goat. Beacuse, if the player persist the former choice, the probability of getting a car is 1/3. This is also the probiblity of the player made the right choice in the first time. However, if the player change the choice, the probability of getting a car is the same as the probability that the player made a wrong choice at first time, so the probability of get a car is 2/3. Therefore, the player should change the choice after Mony Hall open a ‘goat door’."
      ],
      "metadata": {
        "id": "z_Nr8UXMLzww"
      }
    }
  ]
}